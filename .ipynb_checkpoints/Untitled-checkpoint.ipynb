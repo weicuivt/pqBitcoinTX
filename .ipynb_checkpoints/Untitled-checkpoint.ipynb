{
 "cells": [
  {
   "cell_type": "code",
   "execution_count": 1,
   "metadata": {},
   "outputs": [],
   "source": [
    "import hashlib\n",
    "import falcon\n",
    "# from pythonbitcoinlib import *\n",
    "# from falcon.py import *"
   ]
  },
  {
   "cell_type": "code",
   "execution_count": null,
   "metadata": {},
   "outputs": [],
   "source": [
    "sk = falcon.SecretKey(512)\n",
    "pk = falcon.PublicKey(sk)\n",
    "print(sk)\n",
    "print(pk)\n",
    "msg = \"\"\n",
    "sig = sk.sign(msg)\n",
    "print(sig)\n",
    "result = pk.verify(msg, sig)\n",
    "print(result)"
   ]
  },
  {
   "cell_type": "code",
   "execution_count": null,
   "metadata": {},
   "outputs": [],
   "source": [
    "# Create the (in)famous correct brainwallet secret key.\n",
    "h = hashlib.sha256(b'correct horse battery staple').digest()\n",
    "seckey = CBitcoinSecret.from_secret_bytes(h)"
   ]
  },
  {
   "cell_type": "code",
   "execution_count": null,
   "metadata": {},
   "outputs": [],
   "source": [
    "print(pk)"
   ]
  },
  {
   "cell_type": "code",
   "execution_count": null,
   "metadata": {},
   "outputs": [],
   "source": [
    "print(seckey)"
   ]
  },
  {
   "cell_type": "code",
   "execution_count": 33,
   "metadata": {},
   "outputs": [],
   "source": [
    "txid = lx('7e195aa3de827814f172c362fcf838d92ba10e3f9fdd9c3ecaf79522b311b22d')\n",
    "vout = 0"
   ]
  },
  {
   "cell_type": "code",
   "execution_count": 34,
   "metadata": {},
   "outputs": [
    {
     "name": "stdout",
     "output_type": "stream",
     "text": [
      "CTxIn(COutPoint(lx('7e195aa3de827814f172c362fcf838d92ba10e3f9fdd9c3ecaf79522b311b22d'), 0), CScript([]), 0xffffffff)\n"
     ]
    }
   ],
   "source": [
    "# Create the txin structure, which includes the outpoint. The scriptSig\n",
    "# defaults to being empty.\n",
    "txin = CMutableTxIn(COutPoint(txid, vout))\n",
    "print(txin)"
   ]
  },
  {
   "cell_type": "code",
   "execution_count": 35,
   "metadata": {},
   "outputs": [
    {
     "name": "stdout",
     "output_type": "stream",
     "text": [
      "b'v\\xa9\\x14y\\xfb\\xfc?4\\xe7tX`\\xd7a7\\xdah\\xf3b8\\x0c`l\\x88\\xac'\n"
     ]
    }
   ],
   "source": [
    "# We also need the scriptPubKey of the output we're spending because\n",
    "# SignatureHash() replaces the transaction scriptSig's with it.\n",
    "#\n",
    "# Here we'll create that scriptPubKey from scratch using the pubkey that\n",
    "# corresponds to the secret key we generated above.\n",
    "txin_scriptPubKey = CScript([OP_DUP, OP_HASH160, Hash160(seckey.pub), OP_EQUALVERIFY, OP_CHECKSIG])\n",
    "print(txin_scriptPubKey)"
   ]
  },
  {
   "cell_type": "code",
   "execution_count": 36,
   "metadata": {},
   "outputs": [
    {
     "name": "stdout",
     "output_type": "stream",
     "text": [
      "CTxOut(0.001*COIN, CScript([OP_DUP, OP_HASH160, x('79fbfc3f34e7745860d76137da68f362380c606c'), OP_EQUALVERIFY, OP_CHECKSIG]))\n"
     ]
    }
   ],
   "source": [
    "# Create the txout. This time we create the scriptPubKey from a Bitcoin\n",
    "# address.\n",
    "txout = CMutableTxOut(0.001*COIN, CBitcoinAddress('1C7zdTfnkzmr13HfA2vNm5SJYRK6nEKyq8').to_scriptPubKey())\n",
    "print(txout)"
   ]
  },
  {
   "cell_type": "code",
   "execution_count": 37,
   "metadata": {},
   "outputs": [
    {
     "name": "stdout",
     "output_type": "stream",
     "text": [
      "CTransaction([CTxIn(COutPoint(lx('7e195aa3de827814f172c362fcf838d92ba10e3f9fdd9c3ecaf79522b311b22d'), 0), CScript([]), 0xffffffff)], [CTxOut(0.001*COIN, CScript([OP_DUP, OP_HASH160, x('79fbfc3f34e7745860d76137da68f362380c606c'), OP_EQUALVERIFY, OP_CHECKSIG]))], 0, 1, CTxWitness(CTxInWitness(CScriptWitness())))\n"
     ]
    }
   ],
   "source": [
    "# Create the unsigned transaction.\n",
    "tx = CMutableTransaction([txin], [txout])\n",
    "print(tx)"
   ]
  },
  {
   "cell_type": "code",
   "execution_count": 38,
   "metadata": {},
   "outputs": [
    {
     "name": "stdout",
     "output_type": "stream",
     "text": [
      "b'\\xf9\\xb7|\\xda\\xf1@\\xa8E\\x95\\r\\x84F\\xc0\\xd3(\\x93D\\xcev\\xbdec\\xcexEZJ\\xbce\\x8a\\xce6'\n"
     ]
    }
   ],
   "source": [
    "# Calculate the signature hash for that transaction.\n",
    "sighash = SignatureHash(txin_scriptPubKey, tx, 0, SIGHASH_ALL)\n",
    "print(sighash)"
   ]
  },
  {
   "cell_type": "code",
   "execution_count": 39,
   "metadata": {},
   "outputs": [
    {
     "name": "stdout",
     "output_type": "stream",
     "text": [
      "b'0D\\x02 \\x15d\\xf8W\\x80d\\xd5\\xed\\x13b\\xe1?e;\\xb6\\xab\\x18\\xbc\\x89H\\xceih\\xd5FG\\xb4\\xa1\\xa7\\x84\\x962\\x02 +\\x08\\x1a/GY\\xaf\\xe5(\\x9e\\xe3\\xda\\x12\\xc9z\\xdc\\x19\\xfd\\xdePe\\xd4\\x90\\x17P\\x0c#n\\xac,lf\\x01'\n"
     ]
    }
   ],
   "source": [
    "# Now sign it. We have to append the type of signature we want to the end, in\n",
    "# this case the usual SIGHASH_ALL.\n",
    "sig = seckey.sign(sighash) + bytes([SIGHASH_ALL])\n",
    "print(sig)"
   ]
  },
  {
   "cell_type": "code",
   "execution_count": 1,
   "metadata": {},
   "outputs": [
    {
     "name": "stdout",
     "output_type": "stream",
     "text": [
      "['/Users/weicui/Downloads/insight/ProjectPy', '/Users/weicui/Downloads/insight/ProjectPy', '/Users/weicui/Downloads/python-bitcoinlib', '/Users/weicui/Downloads/pybitcointools', '/Library/Frameworks/Python.framework/Versions/3.8/lib/python38.zip', '/Library/Frameworks/Python.framework/Versions/3.8/lib/python3.8', '/Library/Frameworks/Python.framework/Versions/3.8/lib/python3.8/lib-dynload', '', '/Users/weicui/Library/Python/3.8/lib/python/site-packages', '/Library/Frameworks/Python.framework/Versions/3.8/lib/python3.8/site-packages', '/Library/Frameworks/Python.framework/Versions/3.8/lib/python3.8/site-packages/IPython/extensions', '/Users/weicui/.ipython']\n"
     ]
    }
   ],
   "source": [
    "\n"
   ]
  },
  {
   "cell_type": "code",
   "execution_count": 16,
   "metadata": {},
   "outputs": [
    {
     "name": "stdout",
     "output_type": "stream",
     "text": [
      "['/Users/weicui/Downloads/insight/ProjectPy', '/Users/weicui/Downloads/insight/ProjectPy', '/Users/weicui/Downloads/python-bitcoinlib', '/Users/weicui/Downloads/pybitcointools', '/Library/Frameworks/Python.framework/Versions/3.8/lib/python38.zip', '/Library/Frameworks/Python.framework/Versions/3.8/lib/python3.8', '/Library/Frameworks/Python.framework/Versions/3.8/lib/python3.8/lib-dynload', '', '/Users/weicui/Library/Python/3.8/lib/python/site-packages', '/Library/Frameworks/Python.framework/Versions/3.8/lib/python3.8/site-packages', '/Library/Frameworks/Python.framework/Versions/3.8/lib/python3.8/site-packages/IPython/extensions', '/Users/weicui/.ipython', '/Users/weicui/Downloads/insight/ProjectPy', '/Users/weicui/Downloads/insight/ProjectPy', '/Users/weicui/Downloads/insight/ProjectPy']\n"
     ]
    }
   ],
   "source": [
    "import sys\n",
    "sys.path.append(\"/Users/weicui/Downloads/insight/ProjectPy\")\n",
    "print(sys.path)"
   ]
  },
  {
   "cell_type": "code",
   "execution_count": null,
   "metadata": {},
   "outputs": [],
   "source": []
  }
 ],
 "metadata": {
  "kernelspec": {
   "display_name": "Python 3",
   "language": "python",
   "name": "python3"
  },
  "language_info": {
   "codemirror_mode": {
    "name": "ipython",
    "version": 3
   },
   "file_extension": ".py",
   "mimetype": "text/x-python",
   "name": "python",
   "nbconvert_exporter": "python",
   "pygments_lexer": "ipython3",
   "version": "3.8.6"
  }
 },
 "nbformat": 4,
 "nbformat_minor": 4
}
