{
 "cells": [
  {
   "cell_type": "code",
   "execution_count": 6,
   "metadata": {},
   "outputs": [],
   "source": [
    "import hashlib\n",
    "import falconPy\n",
    "\n",
    "from pythonbitcoinlib.bitcoin import SelectParams\n",
    "from pythonbitcoinlib.bitcoin.core import b2x, lx, COIN, COutPoint, CMutableTxOut, CMutableTxIn, CMutableTransaction, Hash160\n",
    "from pythonbitcoinlib.bitcoin.core.script import CScript, OP_DUP, OP_HASH160, OP_EQUALVERIFY, OP_CHECKSIG, SignatureHash, SIGHASH_ALL\n",
    "from pythonbitcoinlib.bitcoin.core.scripteval import VerifyScript, SCRIPT_VERIFY_P2SH\n",
    "from pythonbitcoinlib.bitcoin.wallet import CBitcoinAddress, CBitcoinSecret"
   ]
  },
  {
   "cell_type": "markdown",
   "metadata": {},
   "source": [
    "Transaction: Alice sends 0.8 Btc to Bob. \n"
   ]
  },
  {
   "cell_type": "code",
   "execution_count": 8,
   "metadata": {},
   "outputs": [],
   "source": [
    "# falconWallet \n",
    "sk_A_F = falcon.SecretKey(256)\n",
    "pk_A_F = falcon.PublicKey(sk_A_F)\n",
    "sk_B_F = falcon.SecretKey(256)\n",
    "pk_B_F = falcon.PublicKey(sk_B_F)\n",
    "# print(sk)\n",
    "# print(pk)\n",
    "# msg = \"11111\".encode(\"utf8\")\n",
    "# sig = sk.sign(msg)\n",
    "# print(sig)\n",
    "# result = pk.verify(msg, sig)\n",
    "# print(result)"
   ]
  },
  {
   "cell_type": "code",
   "execution_count": 6,
   "metadata": {},
   "outputs": [],
   "source": [
    "# Create the (in)famous correct brainwallet secret key.\n",
    "h = hashlib.sha256(b'correct horse battery staple').digest()\n",
    "seckey = CBitcoinSecret.from_secret_bytes(h)"
   ]
  },
  {
   "cell_type": "code",
   "execution_count": null,
   "metadata": {},
   "outputs": [],
   "source": [
    "# Create the (in)famous correct brainwallet secret key.\n",
    "nicknameA = \"This is Alice.\"\n",
    "nicknameB = \"This is Bob.\"\n",
    "nnSKA = hashlib.sha256(bnicknameA).digest()\n",
    "nnSKB = hashlib.sha256(b'correct horse battery staple').digest()\n",
    "\n",
    "sk_A_E = falcon.SecretKey(256)\n",
    "pk_A_F = falcon.PublicKey(sk_A_F)\n",
    "sk_B_F = falcon.SecretKey(256)\n",
    "pk_B_F = falcon.PublicKey(sk_B_F)"
   ]
  },
  {
   "cell_type": "code",
   "execution_count": 7,
   "metadata": {},
   "outputs": [
    {
     "name": "stdout",
     "output_type": "stream",
     "text": [
      "L3p8oAcQTtuokSCRHQ7i4MhjWc9zornvpJLfmg62sYpLRJF9woSu\n"
     ]
    }
   ],
   "source": [
    "print(seckey)"
   ]
  },
  {
   "cell_type": "code",
   "execution_count": 8,
   "metadata": {},
   "outputs": [],
   "source": [
    "txid = lx('7e195aa3de827814f172c362fcf838d92ba10e3f9fdd9c3ecaf79522b311b22d')\n",
    "vout = 0"
   ]
  },
  {
   "cell_type": "code",
   "execution_count": 9,
   "metadata": {},
   "outputs": [
    {
     "name": "stdout",
     "output_type": "stream",
     "text": [
      "CTxIn(COutPoint(lx('7e195aa3de827814f172c362fcf838d92ba10e3f9fdd9c3ecaf79522b311b22d'), 0), CScript([]), 0xffffffff)\n"
     ]
    }
   ],
   "source": [
    "# Create the txin structure, which includes the outpoint. The scriptSig\n",
    "# defaults to being empty.\n",
    "txin = CMutableTxIn(COutPoint(txid, vout))\n",
    "print(txin)"
   ]
  },
  {
   "cell_type": "code",
   "execution_count": 10,
   "metadata": {},
   "outputs": [
    {
     "name": "stdout",
     "output_type": "stream",
     "text": [
      "b'v\\xa9\\x14y\\xfb\\xfc?4\\xe7tX`\\xd7a7\\xdah\\xf3b8\\x0c`l\\x88\\xac'\n"
     ]
    }
   ],
   "source": [
    "# We also need the scriptPubKey of the output we're spending because\n",
    "# SignatureHash() replaces the transaction scriptSig's with it.\n",
    "#\n",
    "# Here we'll create that scriptPubKey from scratch using the pubkey that\n",
    "# corresponds to the secret key we generated above.\n",
    "txin_scriptPubKey = CScript([OP_DUP, OP_HASH160, Hash160(seckey.pub), OP_EQUALVERIFY, OP_CHECKSIG])\n",
    "print(txin_scriptPubKey)"
   ]
  },
  {
   "cell_type": "code",
   "execution_count": 11,
   "metadata": {},
   "outputs": [
    {
     "name": "stdout",
     "output_type": "stream",
     "text": [
      "CTxOut(0.001*COIN, CScript([OP_DUP, OP_HASH160, x('79fbfc3f34e7745860d76137da68f362380c606c'), OP_EQUALVERIFY, OP_CHECKSIG]))\n"
     ]
    }
   ],
   "source": [
    "# Create the txout. This time we create the scriptPubKey from a Bitcoin\n",
    "# address.\n",
    "txout = CMutableTxOut(0.001*COIN, CBitcoinAddress('1C7zdTfnkzmr13HfA2vNm5SJYRK6nEKyq8').to_scriptPubKey())\n",
    "print(txout)"
   ]
  },
  {
   "cell_type": "code",
   "execution_count": 12,
   "metadata": {},
   "outputs": [
    {
     "name": "stdout",
     "output_type": "stream",
     "text": [
      "CTransaction([CTxIn(COutPoint(lx('7e195aa3de827814f172c362fcf838d92ba10e3f9fdd9c3ecaf79522b311b22d'), 0), CScript([]), 0xffffffff)], [CTxOut(0.001*COIN, CScript([OP_DUP, OP_HASH160, x('79fbfc3f34e7745860d76137da68f362380c606c'), OP_EQUALVERIFY, OP_CHECKSIG]))], 0, 1, CTxWitness(CTxInWitness(CScriptWitness())))\n"
     ]
    }
   ],
   "source": [
    "# Create the unsigned transaction.\n",
    "tx = CMutableTransaction([txin], [txout])\n",
    "print(tx)"
   ]
  },
  {
   "cell_type": "code",
   "execution_count": 13,
   "metadata": {},
   "outputs": [
    {
     "name": "stdout",
     "output_type": "stream",
     "text": [
      "b'\\xf9\\xb7|\\xda\\xf1@\\xa8E\\x95\\r\\x84F\\xc0\\xd3(\\x93D\\xcev\\xbdec\\xcexEZJ\\xbce\\x8a\\xce6'\n"
     ]
    }
   ],
   "source": [
    "# Calculate the signature hash for that transaction.\n",
    "sighash = SignatureHash(txin_scriptPubKey, tx, 0, SIGHASH_ALL)\n",
    "print(sighash)"
   ]
  },
  {
   "cell_type": "code",
   "execution_count": 14,
   "metadata": {},
   "outputs": [
    {
     "name": "stdout",
     "output_type": "stream",
     "text": [
      "b'0D\\x02 V\\xf6\\xa0\\xc3AvReDy\\x07G\\xa6,\\xb6\\xc3i\\x05\\xbf\\xfa\\xc1\\xc2z\\xc4\\xea\\xda)[\\x94\\x92\\xe6o\\x02 w\\x9a7NnJ\\xe0\\xebQ\\x0eKB\\xb8\\x84\\x01\\nX]\\xb8o~\\x1a>[\\xe8\\xe1u\\xa2\\xd8\\x0f(\\x9d\\x01'\n"
     ]
    }
   ],
   "source": [
    "# Now sign it. We have to append the type of signature we want to the end, in\n",
    "# this case the usual SIGHASH_ALL.\n",
    "sig = seckey.sign(sighash) + bytes([SIGHASH_ALL])\n",
    "print(sig)"
   ]
  },
  {
   "cell_type": "code",
   "execution_count": 15,
   "metadata": {},
   "outputs": [
    {
     "name": "stdout",
     "output_type": "stream",
     "text": [
      "01000000012db211b32295f7ca3e9cdd9f3f0ea12bd938f8fc62c372f1147882dea35a197e000000006a473044022056f6a0c34176526544790747a62cb6c36905bffac1c27ac4eada295b9492e66f0220779a374e6e4ae0eb510e4b42b884010a585db86f7e1a3e5be8e175a2d80f289d01210378d430274f8c5ec1321338151e9f27f4c676a008bdf8638d07c0b6be9ab35c71ffffffff01a0860100000000001976a91479fbfc3f34e7745860d76137da68f362380c606c88ac00000000\n"
     ]
    }
   ],
   "source": [
    "# Set the scriptSig of our transaction input appropriately.\n",
    "txin.scriptSig = CScript([sig, seckey.pub])\n",
    "\n",
    "# Verify the signature worked. This calls EvalScript() and actually executes\n",
    "# the opcodes in the scripts to see if everything worked out. If it doesn't an\n",
    "# exception will be raised.\n",
    "VerifyScript(txin.scriptSig, txin_scriptPubKey, tx, 0, (SCRIPT_VERIFY_P2SH,))\n",
    "\n",
    "# Done! Print the transaction to standard output with the bytes-to-hex\n",
    "# function.\n",
    "print(b2x(tx.serialize()))\n"
   ]
  },
  {
   "cell_type": "code",
   "execution_count": null,
   "metadata": {},
   "outputs": [],
   "source": [
    "\n",
    "SelectParams('mainnet')\n",
    "\n",
    "# Create the (in)famous correct brainwallet secret key.\n",
    "h = hashlib.sha256(b'correct horse battery staple').digest()\n",
    "seckey = CBitcoinSecret.from_secret_bytes(h)\n",
    "\n",
    "# Same as the txid:vout the createrawtransaction RPC call requires\n",
    "#\n",
    "# lx() takes *little-endian* hex and converts it to bytes; in Bitcoin\n",
    "# transaction hashes are shown little-endian rather than the usual big-endian.\n",
    "# There's also a corresponding x() convenience function that takes big-endian\n",
    "# hex and converts it to bytes.\n",
    "txid = lx('7e195aa3de827814f172c362fcf838d92ba10e3f9fdd9c3ecaf79522b311b22d')\n",
    "vout = 0\n",
    "\n",
    "# Create the txin structure, which includes the outpoint. The scriptSig\n",
    "# defaults to being empty.\n",
    "txin = CMutableTxIn(COutPoint(txid, vout))\n",
    "\n",
    "# We also need the scriptPubKey of the output we're spending because\n",
    "# SignatureHash() replaces the transaction scriptSig's with it.\n",
    "#\n",
    "# Here we'll create that scriptPubKey from scratch using the pubkey that\n",
    "# corresponds to the secret key we generated above.\n",
    "txin_scriptPubKey = CScript([OP_DUP, OP_HASH160, Hash160(seckey.pub), OP_EQUALVERIFY, OP_CHECKSIG])\n",
    "\n",
    "# Create the txout. This time we create the scriptPubKey from a Bitcoin\n",
    "# address.\n",
    "txout = CMutableTxOut(0.001*COIN, CBitcoinAddress('1C7zdTfnkzmr13HfA2vNm5SJYRK6nEKyq8').to_scriptPubKey())\n",
    "\n",
    "# Create the unsigned transaction.\n",
    "tx = CMutableTransaction([txin], [txout])\n",
    "\n",
    "# Calculate the signature hash for that transaction.\n",
    "sighash = SignatureHash(txin_scriptPubKey, tx, 0, SIGHASH_ALL)\n",
    "\n",
    "# Now sign it. We have to append the type of signature we want to the end, in\n",
    "# this case the usual SIGHASH_ALL.\n",
    "sig = seckey.sign(sighash) + bytes([SIGHASH_ALL])\n",
    "\n",
    "# Set the scriptSig of our transaction input appropriately.\n",
    "txin.scriptSig = CScript([sig, seckey.pub])\n",
    "\n",
    "# Verify the signature worked. This calls EvalScript() and actually executes\n",
    "# the opcodes in the scripts to see if everything worked out. If it doesn't an\n",
    "# exception will be raised.\n",
    "VerifyScript(txin.scriptSig, txin_scriptPubKey, tx, 0, (SCRIPT_VERIFY_P2SH,))\n",
    "\n",
    "# Done! Print the transaction to standard output with the bytes-to-hex\n",
    "# function.\n",
    "print(b2x(tx.serialize()))\n"
   ]
  }
 ],
 "metadata": {
  "kernelspec": {
   "display_name": "Python 3",
   "language": "python",
   "name": "python3"
  },
  "language_info": {
   "codemirror_mode": {
    "name": "ipython",
    "version": 3
   },
   "file_extension": ".py",
   "mimetype": "text/x-python",
   "name": "python",
   "nbconvert_exporter": "python",
   "pygments_lexer": "ipython3",
   "version": "3.8.6"
  }
 },
 "nbformat": 4,
 "nbformat_minor": 4
}
